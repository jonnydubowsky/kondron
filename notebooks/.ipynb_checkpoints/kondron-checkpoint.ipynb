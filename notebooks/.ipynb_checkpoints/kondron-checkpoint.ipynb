{
 "cells": [
  {
   "cell_type": "code",
   "execution_count": 5,
   "metadata": {
    "collapsed": true
   },
   "outputs": [],
   "source": [
    "import click\n",
    "import datetime\n",
    "import fnmatch\n",
    "import logging\n",
    "import os\n",
    "import requests\n",
    "import sys\n",
    "import telnetlib\n",
    "import urllib\n",
    "import time"
   ]
  },
  {
   "cell_type": "code",
   "execution_count": 23,
   "metadata": {
    "collapsed": true
   },
   "outputs": [],
   "source": [
    "class Kontrol:\n",
    "    ipaddr = '192.168.1.1'\n",
    "    port = 80\n",
    "    user = 'admin'\n",
    "    password = ''\n",
    "    telnet_conn = ''\n",
    "    urls = dict()\n",
    "    seqs = dict()\n",
    "    # throttle (0 is off),rudder (min 1?),elevation (1..127),aileron (1..127),0 + settings (speed mode, inverted flying)\n",
    "    state = {'time': 1, 'throttle':0, 'rudder':1, 'elevation':1, 'aileron':1, 'settings':0}\n",
    "    var = 250\n",
    "    \n",
    "    def __init__(self, ip, port, user, passw):\n",
    "        self.ipaddr = ip\n",
    "        self.port = port\n",
    "        self.user = user\n",
    "        self.passw = passw\n",
    "        self.telnet_conn = telnetlib.Telnet(ip,port)\n",
    "        time.sleep(2)\n",
    "        '''\n",
    "        self.telnet_conn.read_until(b\"login: \")\n",
    "        self.telnet_conn.write(user.encode('ascii') + b\"\\n\")\n",
    "        self.telnet_conn.read_until(b\"Password: \")\n",
    "        self.telnet_conn.write(passw.encode('ascii') + b\"\\n\")\n",
    "        '''\n",
    "        \n",
    "    def done(self):\n",
    "        self.telnet_conn.write(b\"exit\\n\")\n",
    "        self.telnet_conn.close()\n",
    "        \n",
    "    def set_state(self, argdict):\n",
    "        for k,v in argdict.items():\n",
    "            self.state[k] = v\n",
    "        print(self.state)\n",
    "    def get_comm(self):\n",
    "        checksum = sum([self.state['throttle'],self.state['rudder'],\n",
    "                        self.state['elevation'],self.state['aileron'],self.state['settings']])\n",
    "        abytes = bytes([self.var, self.state['throttle'],self.state['rudder'],\n",
    "                        self.state['elevation'],self.state['aileron'],self.state['settings'], checksum])\n",
    "        return abytes\n",
    "    def send_comm(self):\n",
    "        mess = str(self.get_comm())[2:-1]\n",
    "        print(mess)\n",
    "        allm = 'echo -e \"'+mess+'\" > /dev/ttyAMA1'\n",
    "        print(allm)\n",
    "        #self.telnet_conn.write(allm+b\"\\n\")\n",
    "        print(self.telnet_conn.read_all().decode('ascii'))\n",
    "        time.sleep(self.state['time'])\n",
    "    def seq_store(self, seqname, index=0):\n",
    "        self.seqs[seqname] ={}\n",
    "        self.seqs[seqname][index] = self.state\n",
    "        return\n",
    "    \n",
    "    def seq_get(self, seqname):\n",
    "        if seqname in self.seqs:\n",
    "            return self.seqs[seqname]\n",
    "        return bytes([[0xfa, 0x40, 0x40, 0x40, 0x00, 0x00]])\n",
    "    def seq_do(self, seqname):\n",
    "        seqs = self.seq_get(seqname)\n",
    "        for seq in seqs:\n",
    "            self.set_state(seqs[seq])\n",
    "            self.send_comm()\n",
    "    def get_state(self):\n",
    "        return self.state\n",
    "    def url_for(self, script):\n",
    "        if script in self.urls:\n",
    "            return self.urls[script]\n",
    "        url = 'http://{addr}:{port}/{script}'.format(\n",
    "            addr=self.ipaddr, port=self.port, script=script)\n",
    "        self.urls[script] = url\n",
    "        return url\n",
    "        \n",
    "    def download(self, output, path):\n",
    "        if output is None:\n",
    "            output = os.path.basename(path)\n",
    "            \n",
    "        res = requests.get(self.url_for('get_record.cgi'),\n",
    "                           params=dict(path=path, json=1, **auth_params()),\n",
    "                           stream=True)\n",
    "        \n",
    "        res.raise_for_status()\n",
    "        \n",
    "        LOG.info('writing %s to %s', path, output)\n",
    "        with open(output, 'w') as fd:\n",
    "            for chunk in res.iter_content(chunk_size=8192):\n",
    "                fd.write(chunk)\n",
    "        \n",
    "    def auth_params(self):\n",
    "        return {'user': self.user, 'pwd': self.password}\n",
    "    def snapshot(self,output):\n",
    "        if output is None:\n",
    "            now = datetime.datetime.now()\n",
    "            output = 'snapshot-{}.jpg'.format(now.isoformat())\n",
    "        \n",
    "        res = requests.get(self.url_for('snapshot.cgi'),\n",
    "                           params=dict(json=1, **self.auth_params()))  # , **auth_params()\n",
    "        \n",
    "        res.raise_for_status()\n",
    "        \n",
    "        with open(output, 'wb') as fd:\n",
    "            fd.write(res.content)\n",
    "    \n",
    "    \n",
    "    \n"
   ]
  },
  {
   "cell_type": "code",
   "execution_count": 24,
   "metadata": {},
   "outputs": [
    {
     "name": "stdout",
     "output_type": "stream",
     "text": [
      "{'time': 2, 'throttle': 2, 'rudder': 1, 'elevation': 1, 'aileron': 1, 'settings': 0}\n",
      "\\xfa\\x02\\x01\\x01\\x01\\x00\\x05\n",
      "echo -e \"\\xfa\\x02\\x01\\x01\\x01\\x00\\x05\" > /dev/ttyAMA1\n",
      "HTTP/1.0 400 Bad Request\n",
      "Content-Type: text/html\n",
      "Server: httpd\n",
      "Date: Fri, 12 Jan 2018 16:57:46 GMT\n",
      "Connection: close\n",
      "Cache-Control: no-store, no-cache, must-revalidate\n",
      "Cache-Control: post-check=0, pre-check=0\n",
      "Pragma: no-cache\n",
      "\n",
      "<HTML><HEAD><TITLE>400 Bad Request</TITLE></HEAD>\n",
      "<BODY BGCOLOR=\"#cc9999\"><H4>400 Bad Request</H4>\n",
      "No request found.\n",
      "</BODY></HTML>\n",
      "\n",
      "{'time': 2, 'throttle': 2, 'rudder': 1, 'elevation': 1, 'aileron': 1, 'settings': 0}\n",
      "\\xfa\\x02\\x01\\x01\\x01\\x00\\x05\n",
      "echo -e \"\\xfa\\x02\\x01\\x01\\x01\\x00\\x05\" > /dev/ttyAMA1\n",
      "\n"
     ]
    }
   ],
   "source": [
    "myKontrol = Kontrol('192.168.1.1', 80, 'admin', '')\n",
    "#myKontrol.url_for('get_record.cgi')\n",
    "myKontrol.set_state({'throttle':2, 'time':2})\n",
    "myKontrol.send_comm()\n",
    "myKontrol.seq_store('seqName')\n",
    "myKontrol.seq_get('seqName')\n",
    "myKontrol.seq_do('seqName')"
   ]
  },
  {
   "cell_type": "code",
   "execution_count": 5,
   "metadata": {},
   "outputs": [
    {
     "data": {
      "text/plain": [
       "'0xfa'"
      ]
     },
     "execution_count": 5,
     "metadata": {},
     "output_type": "execute_result"
    }
   ],
   "source": [
    "hex(250)"
   ]
  },
  {
   "cell_type": "code",
   "execution_count": null,
   "metadata": {
    "collapsed": true
   },
   "outputs": [],
   "source": []
  }
 ],
 "metadata": {
  "kernelspec": {
   "display_name": "Python 3",
   "language": "python",
   "name": "python3"
  },
  "language_info": {
   "codemirror_mode": {
    "name": "ipython",
    "version": 3
   },
   "file_extension": ".py",
   "mimetype": "text/x-python",
   "name": "python",
   "nbconvert_exporter": "python",
   "pygments_lexer": "ipython3",
   "version": "3.6.2"
  }
 },
 "nbformat": 4,
 "nbformat_minor": 2
}
