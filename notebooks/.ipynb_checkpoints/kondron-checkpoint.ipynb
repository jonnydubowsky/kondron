{
 "cells": [
  {
   "cell_type": "code",
   "execution_count": 2,
   "metadata": {
    "collapsed": true
   },
   "outputs": [],
   "source": [
    "import click\n",
    "import datetime\n",
    "import fnmatch\n",
    "import logging\n",
    "import os\n",
    "import requests\n",
    "import sys\n",
    "import telnetlib\n",
    "import urllib.parse\n",
    "import time"
   ]
  },
  {
   "cell_type": "code",
   "execution_count": 5,
   "metadata": {
    "collapsed": true
   },
   "outputs": [],
   "source": [
    "class Kontrol:\n",
    "    ipaddr = '192.168.1.1'\n",
    "    port = 80\n",
    "    user = 'admin'\n",
    "    password = ''\n",
    "    telnet_conn = ''\n",
    "    urls = dict()\n",
    "    seqs = dict()\n",
    "    # throttle (0 is off),rudder (min 1?),elevation (1..127),aileron (1..127),0 + settings (speed mode, inverted flying)\n",
    "    state = {'time': 1, 'throttle':0, 'rudder':1, 'elevation':1, 'aileron':1, 'settings':0}\n",
    "    var = 250\n",
    "    \n",
    "    def __init__(self, ip, port, user, passw):\n",
    "        self.ipaddr = ip\n",
    "        self.port = port\n",
    "        self.user = user\n",
    "        self.passw = passw\n",
    "        self.telnet_conn = telnetlib.Telnet(ip,port)\n",
    "        time.sleep(2)\n",
    "        '''\n",
    "        self.telnet_conn.read_until(b\"login: \")\n",
    "        self.telnet_conn.write(user.encode('ascii') + b\"\\n\")\n",
    "        self.telnet_conn.read_until(b\"Password: \")\n",
    "        self.telnet_conn.write(passw.encode('ascii') + b\"\\n\")\n",
    "        '''\n",
    "        \n",
    "    def done(self):\n",
    "        self.telnet_conn.write(b\"exit\\n\")\n",
    "        self.telnet_conn.close()\n",
    "        \n",
    "    def set_state(self, argdict):\n",
    "        for k,v in argdict.items():\n",
    "            self.state[k] = v\n",
    "        print(self.state)\n",
    "    def get_comm(self):\n",
    "        checksum = sum([self.state['throttle'],self.state['rudder'],\n",
    "                        self.state['elevation'],self.state['aileron'],self.state['settings']])\n",
    "        abytes = bytes([self.var, self.state['throttle'],self.state['rudder'],\n",
    "                        self.state['elevation'],self.state['aileron'],self.state['settings'], checksum])\n",
    "        return abytes\n",
    "    def send_comm(self):\n",
    "        mess = str(self.get_comm())[2:-1]\n",
    "        print(mess)\n",
    "        allm = 'echo -e \"'+mess+'\" > /dev/ttyAMA1'\n",
    "        print(allm)\n",
    "        #self.telnet_conn.write(allm+b\"\\n\")\n",
    "        print(self.telnet_conn.read_all().decode('ascii'))\n",
    "        time.sleep(self.state['time'])\n",
    "    def seq_store(self, seqname, index=0):\n",
    "        self.seqs[seqname] ={}\n",
    "        self.seqs[seqname][index] = self.state\n",
    "        return\n",
    "    \n",
    "    def seq_get(self, seqname):\n",
    "        if seqname in self.seqs:\n",
    "            return self.seqs[seqname]\n",
    "        return bytes([[0xfa, 0x40, 0x40, 0x40, 0x00, 0x00]])\n",
    "    def seq_do(self, seqname):\n",
    "        seqs = self.seq_get(seqname)\n",
    "        for seq in seqs:\n",
    "            self.set_state(seqs[seq])\n",
    "            self.send_comm()\n",
    "    def get_state(self):\n",
    "        return self.state\n",
    "    def url_for(self, script):\n",
    "        if script in self.urls:\n",
    "            return self.urls[script]\n",
    "        url = 'http://{addr}:{port}/{script}'.format(\n",
    "            addr=self.ipaddr, port=self.port, script=script)\n",
    "        self.urls[script] = url\n",
    "        return url\n",
    "        \n",
    "    def download(self, output, path):\n",
    "        if output is None:\n",
    "            output = os.path.basename(path)\n",
    "            \n",
    "        res = requests.get(self.url_for('get_record.cgi'),\n",
    "                           params=dict(path=path, json=1, **auth_params()),\n",
    "                           stream=True)\n",
    "        \n",
    "        res.raise_for_status()\n",
    "        \n",
    "        LOG.info('writing %s to %s', path, output)\n",
    "        with open(output, 'w') as fd:\n",
    "            for chunk in res.iter_content(chunk_size=8192):\n",
    "                fd.write(chunk)\n",
    "        \n",
    "    def auth_params(self):\n",
    "        return {'user': self.user, 'pwd': self.password}\n",
    "    def snapshot(self,output):\n",
    "        if output is None:\n",
    "            now = datetime.datetime.now()\n",
    "            output = 'snapshot-{}.jpg'.format(now.isoformat())\n",
    "        \n",
    "        res = requests.get(self.url_for('snapshot.cgi'),\n",
    "                           params=dict(json=1, **self.auth_params()))  # , **auth_params()\n",
    "        \n",
    "        res.raise_for_status()\n",
    "        \n",
    "        with open(output, 'wb') as fd:\n",
    "            fd.write(res.content)\n",
    "    \n",
    "    def get_params(self): # , output, patterns\n",
    "        res = requests.get(self.url_for('get_params.cgi'),\n",
    "                           params=dict(json=1, **self.auth_params()))\n",
    "        \n",
    "        res.raise_for_status()\n",
    "        print(res.json())\n",
    "        \n",
    "    def get_status(self): # , output, patterns\n",
    "        res = requests.get(self.url_for('get_status.cgi'),\n",
    "                           params=dict(json=1, **self.auth_params()))\n",
    "        res.raise_for_status()\n",
    "        print(res.json())\n",
    "        \n",
    "    def get_properties(self): # , output, patterns\n",
    "        res = requests.get(self.url_for('get_properties.cgi'),\n",
    "                           params=dict(json=1, **self.auth_params()))\n",
    "        res.raise_for_status()\n",
    "        print(res.json())\n",
    "        \n",
    "    def streamurl(self):\n",
    "        url = self.url_for('av.asf')\n",
    "        click.echo('{}?{}'.format(\n",
    "            url, urllib.parse.urlencode(self.auth_params())))\n",
    "\n",
    "    \n",
    "    \n",
    "    \n"
   ]
  },
  {
   "cell_type": "code",
   "execution_count": 8,
   "metadata": {},
   "outputs": [
    {
     "name": "stdout",
     "output_type": "stream",
     "text": [
      "{'time': 2, 'throttle': 2, 'rudder': 1, 'elevation': 1, 'aileron': 1, 'settings': 0}\n",
      "\\xfa\\x02\\x01\\x01\\x01\\x00\\x05\n",
      "echo -e \"\\xfa\\x02\\x01\\x01\\x01\\x00\\x05\" > /dev/ttyAMA1\n"
     ]
    },
    {
     "ename": "ConnectionResetError",
     "evalue": "[Errno 54] Connection reset by peer",
     "output_type": "error",
     "traceback": [
      "\u001b[0;31m---------------------------------------------------------------------------\u001b[0m",
      "\u001b[0;31mConnectionResetError\u001b[0m                      Traceback (most recent call last)",
      "\u001b[0;32m<ipython-input-8-376880012c9d>\u001b[0m in \u001b[0;36m<module>\u001b[0;34m()\u001b[0m\n\u001b[1;32m      4\u001b[0m \u001b[0;31m#myKontrol.streamurl()\u001b[0m\u001b[0;34m\u001b[0m\u001b[0;34m\u001b[0m\u001b[0m\n\u001b[1;32m      5\u001b[0m \u001b[0mmyKontrol\u001b[0m\u001b[0;34m.\u001b[0m\u001b[0mset_state\u001b[0m\u001b[0;34m(\u001b[0m\u001b[0;34m{\u001b[0m\u001b[0;34m'throttle'\u001b[0m\u001b[0;34m:\u001b[0m\u001b[0;36m2\u001b[0m\u001b[0;34m,\u001b[0m \u001b[0;34m'time'\u001b[0m\u001b[0;34m:\u001b[0m\u001b[0;36m2\u001b[0m\u001b[0;34m}\u001b[0m\u001b[0;34m)\u001b[0m\u001b[0;34m\u001b[0m\u001b[0m\n\u001b[0;32m----> 6\u001b[0;31m \u001b[0mmyKontrol\u001b[0m\u001b[0;34m.\u001b[0m\u001b[0msend_comm\u001b[0m\u001b[0;34m(\u001b[0m\u001b[0;34m)\u001b[0m\u001b[0;34m\u001b[0m\u001b[0m\n\u001b[0m\u001b[1;32m      7\u001b[0m \u001b[0mmyKontrol\u001b[0m\u001b[0;34m.\u001b[0m\u001b[0mseq_store\u001b[0m\u001b[0;34m(\u001b[0m\u001b[0;34m'seqName'\u001b[0m\u001b[0;34m)\u001b[0m\u001b[0;34m\u001b[0m\u001b[0m\n\u001b[1;32m      8\u001b[0m \u001b[0mmyKontrol\u001b[0m\u001b[0;34m.\u001b[0m\u001b[0mseq_get\u001b[0m\u001b[0;34m(\u001b[0m\u001b[0;34m'seqName'\u001b[0m\u001b[0;34m)\u001b[0m\u001b[0;34m\u001b[0m\u001b[0m\n",
      "\u001b[0;32m<ipython-input-5-1645a4c38d89>\u001b[0m in \u001b[0;36msend_comm\u001b[0;34m(self)\u001b[0m\n\u001b[1;32m     45\u001b[0m         \u001b[0mprint\u001b[0m\u001b[0;34m(\u001b[0m\u001b[0mallm\u001b[0m\u001b[0;34m)\u001b[0m\u001b[0;34m\u001b[0m\u001b[0m\n\u001b[1;32m     46\u001b[0m         \u001b[0;31m#self.telnet_conn.write(allm+b\"\\n\")\u001b[0m\u001b[0;34m\u001b[0m\u001b[0;34m\u001b[0m\u001b[0m\n\u001b[0;32m---> 47\u001b[0;31m         \u001b[0mprint\u001b[0m\u001b[0;34m(\u001b[0m\u001b[0mself\u001b[0m\u001b[0;34m.\u001b[0m\u001b[0mtelnet_conn\u001b[0m\u001b[0;34m.\u001b[0m\u001b[0mread_all\u001b[0m\u001b[0;34m(\u001b[0m\u001b[0;34m)\u001b[0m\u001b[0;34m.\u001b[0m\u001b[0mdecode\u001b[0m\u001b[0;34m(\u001b[0m\u001b[0;34m'ascii'\u001b[0m\u001b[0;34m)\u001b[0m\u001b[0;34m)\u001b[0m\u001b[0;34m\u001b[0m\u001b[0m\n\u001b[0m\u001b[1;32m     48\u001b[0m         \u001b[0mtime\u001b[0m\u001b[0;34m.\u001b[0m\u001b[0msleep\u001b[0m\u001b[0;34m(\u001b[0m\u001b[0mself\u001b[0m\u001b[0;34m.\u001b[0m\u001b[0mstate\u001b[0m\u001b[0;34m[\u001b[0m\u001b[0;34m'time'\u001b[0m\u001b[0;34m]\u001b[0m\u001b[0;34m)\u001b[0m\u001b[0;34m\u001b[0m\u001b[0m\n\u001b[1;32m     49\u001b[0m     \u001b[0;32mdef\u001b[0m \u001b[0mseq_store\u001b[0m\u001b[0;34m(\u001b[0m\u001b[0mself\u001b[0m\u001b[0;34m,\u001b[0m \u001b[0mseqname\u001b[0m\u001b[0;34m,\u001b[0m \u001b[0mindex\u001b[0m\u001b[0;34m=\u001b[0m\u001b[0;36m0\u001b[0m\u001b[0;34m)\u001b[0m\u001b[0;34m:\u001b[0m\u001b[0;34m\u001b[0m\u001b[0m\n",
      "\u001b[0;32m/anaconda3/lib/python3.6/telnetlib.py\u001b[0m in \u001b[0;36mread_all\u001b[0;34m(self)\u001b[0m\n\u001b[1;32m    331\u001b[0m         \u001b[0mself\u001b[0m\u001b[0;34m.\u001b[0m\u001b[0mprocess_rawq\u001b[0m\u001b[0;34m(\u001b[0m\u001b[0;34m)\u001b[0m\u001b[0;34m\u001b[0m\u001b[0m\n\u001b[1;32m    332\u001b[0m         \u001b[0;32mwhile\u001b[0m \u001b[0;32mnot\u001b[0m \u001b[0mself\u001b[0m\u001b[0;34m.\u001b[0m\u001b[0meof\u001b[0m\u001b[0;34m:\u001b[0m\u001b[0;34m\u001b[0m\u001b[0m\n\u001b[0;32m--> 333\u001b[0;31m             \u001b[0mself\u001b[0m\u001b[0;34m.\u001b[0m\u001b[0mfill_rawq\u001b[0m\u001b[0;34m(\u001b[0m\u001b[0;34m)\u001b[0m\u001b[0;34m\u001b[0m\u001b[0m\n\u001b[0m\u001b[1;32m    334\u001b[0m             \u001b[0mself\u001b[0m\u001b[0;34m.\u001b[0m\u001b[0mprocess_rawq\u001b[0m\u001b[0;34m(\u001b[0m\u001b[0;34m)\u001b[0m\u001b[0;34m\u001b[0m\u001b[0m\n\u001b[1;32m    335\u001b[0m         \u001b[0mbuf\u001b[0m \u001b[0;34m=\u001b[0m \u001b[0mself\u001b[0m\u001b[0;34m.\u001b[0m\u001b[0mcookedq\u001b[0m\u001b[0;34m\u001b[0m\u001b[0m\n",
      "\u001b[0;32m/anaconda3/lib/python3.6/telnetlib.py\u001b[0m in \u001b[0;36mfill_rawq\u001b[0;34m(self)\u001b[0m\n\u001b[1;32m    522\u001b[0m         \u001b[0;31m# The buffer size should be fairly small so as to avoid quadratic\u001b[0m\u001b[0;34m\u001b[0m\u001b[0;34m\u001b[0m\u001b[0m\n\u001b[1;32m    523\u001b[0m         \u001b[0;31m# behavior in process_rawq() above\u001b[0m\u001b[0;34m\u001b[0m\u001b[0;34m\u001b[0m\u001b[0m\n\u001b[0;32m--> 524\u001b[0;31m         \u001b[0mbuf\u001b[0m \u001b[0;34m=\u001b[0m \u001b[0mself\u001b[0m\u001b[0;34m.\u001b[0m\u001b[0msock\u001b[0m\u001b[0;34m.\u001b[0m\u001b[0mrecv\u001b[0m\u001b[0;34m(\u001b[0m\u001b[0;36m50\u001b[0m\u001b[0;34m)\u001b[0m\u001b[0;34m\u001b[0m\u001b[0m\n\u001b[0m\u001b[1;32m    525\u001b[0m         \u001b[0mself\u001b[0m\u001b[0;34m.\u001b[0m\u001b[0mmsg\u001b[0m\u001b[0;34m(\u001b[0m\u001b[0;34m\"recv %r\"\u001b[0m\u001b[0;34m,\u001b[0m \u001b[0mbuf\u001b[0m\u001b[0;34m)\u001b[0m\u001b[0;34m\u001b[0m\u001b[0m\n\u001b[1;32m    526\u001b[0m         \u001b[0mself\u001b[0m\u001b[0;34m.\u001b[0m\u001b[0meof\u001b[0m \u001b[0;34m=\u001b[0m \u001b[0;34m(\u001b[0m\u001b[0;32mnot\u001b[0m \u001b[0mbuf\u001b[0m\u001b[0;34m)\u001b[0m\u001b[0;34m\u001b[0m\u001b[0m\n",
      "\u001b[0;31mConnectionResetError\u001b[0m: [Errno 54] Connection reset by peer"
     ]
    }
   ],
   "source": [
    "myKontrol = Kontrol('192.168.1.1', 80, 'admin', '')\n",
    "#myKontrol.url_for('get_record.cgi')\n",
    "myKontrol.snapshot(None)\n",
    "#myKontrol.streamurl()\n",
    "myKontrol.set_state({'throttle':2, 'time':2})\n",
    "myKontrol.send_comm()\n",
    "myKontrol.seq_store('seqName')\n",
    "myKontrol.seq_get('seqName')\n",
    "myKontrol.seq_do('seqName')"
   ]
  },
  {
   "cell_type": "code",
   "execution_count": 5,
   "metadata": {},
   "outputs": [
    {
     "data": {
      "text/plain": [
       "'0xfa'"
      ]
     },
     "execution_count": 5,
     "metadata": {},
     "output_type": "execute_result"
    }
   ],
   "source": [
    "hex(250)"
   ]
  },
  {
   "cell_type": "code",
   "execution_count": null,
   "metadata": {
    "collapsed": true
   },
   "outputs": [],
   "source": []
  }
 ],
 "metadata": {
  "kernelspec": {
   "display_name": "Python 3",
   "language": "python",
   "name": "python3"
  },
  "language_info": {
   "codemirror_mode": {
    "name": "ipython",
    "version": 3
   },
   "file_extension": ".py",
   "mimetype": "text/x-python",
   "name": "python",
   "nbconvert_exporter": "python",
   "pygments_lexer": "ipython3",
   "version": "3.6.2"
  }
 },
 "nbformat": 4,
 "nbformat_minor": 2
}
