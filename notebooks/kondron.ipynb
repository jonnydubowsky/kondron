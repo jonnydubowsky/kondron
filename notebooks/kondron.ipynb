{
 "cells": [
  {
   "cell_type": "code",
   "execution_count": 1,
   "metadata": {},
   "outputs": [],
   "source": [
    "import click\n",
    "import datetime\n",
    "import fnmatch\n",
    "import logging\n",
    "import os\n",
    "import requests\n",
    "import sys\n",
    "import telnetlib\n",
    "import urllib"
   ]
  },
  {
   "cell_type": "code",
   "execution_count": 19,
   "metadata": {},
   "outputs": [],
   "source": [
    "class Kontrol:\n",
    "    ipaddr = '192.168.1.1'\n",
    "    port = 80\n",
    "    user = 'admin'\n",
    "    password = ''\n",
    "    telnet_conn = ''\n",
    "    urls = dict()\n",
    "    seqs = dict()\n",
    "    # throttle (0 is off),rudder (min 1?),elevation (1..127),aileron (1..127),0 + settings (speed mode, inverted flying)\n",
    "    state = {'throttle':0, 'rudder':1, 'elevation':1, 'aileron':1, 'settings':0}\n",
    "    var = 250\n",
    "    \n",
    "    def __init__(self, ip, port, user, passw):\n",
    "        self.ipaddr = ip\n",
    "        self.port = port\n",
    "        self.user = user\n",
    "        self.passw = passw\n",
    "        \n",
    "    def done(self):\n",
    "        self.telnet_conn.write(b\"exit\\n\")\n",
    "        \n",
    "    def get_comm(self):\n",
    "        checksum = sum(self.state['throttle'],self.state['rudder'],\n",
    "                        self.state['elevation'],self.state['aileron'],self.state['settings'])\n",
    "        abytes = bytes([self.var, self.state['throttle'],self.state['rudder'],\n",
    "                        self.state['elevation'],self.state['aileron'],self.state['settings'], checksum])\n",
    "        return abytes\n",
    "    def seq_store(self, seqname, barray):\n",
    "        self.seqs[seqname] = barray\n",
    "        return\n",
    "    \n",
    "    def seq_for(self, seqname):\n",
    "        if seqname in self.seqs:\n",
    "            return self.urls[script]\n",
    "        return bytes([0xfa, 0x40, 0x40, 0x40, 0x00, 0x00])\n",
    "    \n",
    "    def url_for(self, script):\n",
    "        if script in self.urls:\n",
    "            return self.urls[script]\n",
    "        url = 'http://{addr}:{port}/{script}'.format(\n",
    "            addr=self.ipaddr, port=self.port, script=script)\n",
    "        self.urls[script] = url\n",
    "        return url\n",
    "        \n",
    "    def download(self, output, path):\n",
    "        if output is None:\n",
    "            output = os.path.basename(path)\n",
    "            \n",
    "        res = requests.get(self.url_for('get_record.cgi'),\n",
    "                           params=dict(path=path, json=1, **auth_params()),\n",
    "                           stream=True)\n",
    "        \n",
    "        res.raise_for_status()\n",
    "        \n",
    "        LOG.info('writing %s to %s', path, output)\n",
    "        with open(output, 'w') as fd:\n",
    "            for chunk in res.iter_content(chunk_size=8192):\n",
    "                fd.write(chunk)\n",
    "        \n",
    "    def auth_params(self):\n",
    "        return {'user': self.user, 'pwd': self.password}\n",
    "    def snapshot(self,output):\n",
    "        if output is None:\n",
    "            now = datetime.datetime.now()\n",
    "            output = 'snapshot-{}.jpg'.format(now.isoformat())\n",
    "        \n",
    "        res = requests.get(self.url_for('snapshot.cgi'),\n",
    "                           params=dict(json=1, **self.auth_params()))  # , **auth_params()\n",
    "        \n",
    "        res.raise_for_status()\n",
    "        \n",
    "        with open(output, 'wb') as fd:\n",
    "            fd.write(res.content)\n",
    "    \n",
    "    \n",
    "    \n"
   ]
  },
  {
   "cell_type": "code",
   "execution_count": 20,
   "metadata": {},
   "outputs": [],
   "source": [
    "myKontrol = Kontrol('192.168.1.1', 80, 'admin', '')\n",
    "myKontrol.url_for('get_record.cgi')\n",
    "myKontrol.snapshot(None)"
   ]
  },
  {
   "cell_type": "code",
   "execution_count": 5,
   "metadata": {},
   "outputs": [
    {
     "data": {
      "text/plain": [
       "'0xfa'"
      ]
     },
     "execution_count": 5,
     "metadata": {},
     "output_type": "execute_result"
    }
   ],
   "source": [
    "hex(250)"
   ]
  },
  {
   "cell_type": "code",
   "execution_count": null,
   "metadata": {},
   "outputs": [],
   "source": []
  }
 ],
 "metadata": {
  "kernelspec": {
   "display_name": "Python 3",
   "language": "python",
   "name": "python3"
  },
  "language_info": {
   "codemirror_mode": {
    "name": "ipython",
    "version": 3
   },
   "file_extension": ".py",
   "mimetype": "text/x-python",
   "name": "python",
   "nbconvert_exporter": "python",
   "pygments_lexer": "ipython3",
   "version": "3.6.4"
  }
 },
 "nbformat": 4,
 "nbformat_minor": 2
}
